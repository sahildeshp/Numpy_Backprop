{
 "cells": [
  {
   "cell_type": "markdown",
   "metadata": {},
   "source": [
    "# Back-Propagation for a Neural Network\n",
    "\n",
    "This script illustrates how backpropagation can be used to train a neural network by setting a simple binary classification problem using the MNIST dataset. You will find the function *net_backprop* in the script *fncs.py*, which requires you to implement the backpropagation algorithm. Note that you will have a few modifications since the gradients need to aggregate (by summing) the contributions from each training sample."
   ]
  },
  {
   "cell_type": "code",
   "execution_count": 1,
   "metadata": {},
   "outputs": [],
   "source": [
    "# Import tensorflow and other necessary libraries\n",
    "import numpy as np\n",
    "import matplotlib\n",
    "import matplotlib.pyplot as plt\n",
    "import fncs as nn"
   ]
  },
  {
   "cell_type": "code",
   "execution_count": 2,
   "metadata": {},
   "outputs": [],
   "source": [
    "# Import MNIST data\n",
    "from sklearn.datasets import fetch_openml\n",
    "mnist = fetch_openml('mnist_784',version=1)\n",
    "\n",
    "# Getting training and testing data:\n",
    "# We are setting up just a simple binary classification problem in which we aim to\n",
    "# properly classify the number 2.\n",
    "X, y_str = mnist[\"data\"], mnist[\"target\"]\n",
    "y = np.array([int(int(i)==2) for i in y_str])\n",
    "X_train, X_test, y_train, y_test = X[:60000], X[60000:], y[:60000], y[60000:]"
   ]
  },
  {
   "cell_type": "code",
   "execution_count": null,
   "metadata": {
    "scrolled": true
   },
   "outputs": [
    {
     "name": "stderr",
     "output_type": "stream",
     "text": [
      "C:\\Users\\sahil\\Desktop\\hw02b\\fncs.py:5: RuntimeWarning: overflow encountered in exp\n",
      "  return 1/(1+np.exp(-x))\n"
     ]
    },
    {
     "name": "stdout",
     "output_type": "stream",
     "text": [
      "... Epoch   0 | Loss_Train: 4.10E+04 | Loss_Val: 4.23E+03 | Acc_Val: 89.68\n",
      "... Epoch   1 | Loss_Train: 2.52E+04 | Loss_Val: 3.46E+03 | Acc_Val: 89.68\n",
      "... Epoch   2 | Loss_Train: 2.04E+04 | Loss_Val: 3.34E+03 | Acc_Val: 89.68\n",
      "... Epoch   3 | Loss_Train: 1.96E+04 | Loss_Val: 3.30E+03 | Acc_Val: 89.68\n",
      "... Epoch   4 | Loss_Train: 1.93E+04 | Loss_Val: 3.27E+03 | Acc_Val: 89.68\n",
      "... Epoch   5 | Loss_Train: 1.92E+04 | Loss_Val: 3.24E+03 | Acc_Val: 89.68\n",
      "... Epoch   6 | Loss_Train: 1.90E+04 | Loss_Val: 3.19E+03 | Acc_Val: 89.68\n",
      "... Epoch   7 | Loss_Train: 1.87E+04 | Loss_Val: 3.11E+03 | Acc_Val: 89.68\n",
      "... Epoch   8 | Loss_Train: 1.82E+04 | Loss_Val: 2.98E+03 | Acc_Val: 89.68\n",
      "... Epoch   9 | Loss_Train: 1.74E+04 | Loss_Val: 2.78E+03 | Acc_Val: 89.68\n",
      "... Epoch  10 | Loss_Train: 1.63E+04 | Loss_Val: 2.53E+03 | Acc_Val: 89.68\n",
      "... Epoch  11 | Loss_Train: 1.49E+04 | Loss_Val: 2.31E+03 | Acc_Val: 89.68\n",
      "... Epoch  12 | Loss_Train: 1.37E+04 | Loss_Val: 2.20E+03 | Acc_Val: 89.68\n",
      "... Epoch  13 | Loss_Train: 1.31E+04 | Loss_Val: 2.14E+03 | Acc_Val: 89.68\n",
      "... Epoch  14 | Loss_Train: 1.28E+04 | Loss_Val: 2.10E+03 | Acc_Val: 89.68\n",
      "... Epoch  15 | Loss_Train: 1.26E+04 | Loss_Val: 2.06E+03 | Acc_Val: 89.68\n",
      "... Epoch  16 | Loss_Train: 1.24E+04 | Loss_Val: 2.03E+03 | Acc_Val: 89.68\n",
      "... Epoch  17 | Loss_Train: 1.22E+04 | Loss_Val: 2.00E+03 | Acc_Val: 89.68\n",
      "... Epoch  18 | Loss_Train: 1.20E+04 | Loss_Val: 1.97E+03 | Acc_Val: 89.68\n",
      "... Epoch  19 | Loss_Train: 1.19E+04 | Loss_Val: 1.95E+03 | Acc_Val: 89.68\n",
      "... Epoch  20 | Loss_Train: 1.17E+04 | Loss_Val: 1.93E+03 | Acc_Val: 89.68\n",
      "... Epoch  21 | Loss_Train: 1.16E+04 | Loss_Val: 1.92E+03 | Acc_Val: 89.68\n",
      "... Epoch  22 | Loss_Train: 1.15E+04 | Loss_Val: 1.90E+03 | Acc_Val: 89.68\n",
      "... Epoch  23 | Loss_Train: 1.15E+04 | Loss_Val: 1.89E+03 | Acc_Val: 89.68\n",
      "... Epoch  24 | Loss_Train: 1.14E+04 | Loss_Val: 1.88E+03 | Acc_Val: 89.68\n",
      "... Epoch  25 | Loss_Train: 1.13E+04 | Loss_Val: 1.87E+03 | Acc_Val: 89.68\n",
      "... Epoch  26 | Loss_Train: 1.13E+04 | Loss_Val: 1.86E+03 | Acc_Val: 89.68\n",
      "... Epoch  27 | Loss_Train: 1.12E+04 | Loss_Val: 1.85E+03 | Acc_Val: 89.68\n",
      "... Epoch  28 | Loss_Train: 1.12E+04 | Loss_Val: 1.85E+03 | Acc_Val: 89.68\n",
      "... Epoch  29 | Loss_Train: 1.11E+04 | Loss_Val: 1.84E+03 | Acc_Val: 89.68\n",
      "... Epoch  30 | Loss_Train: 1.11E+04 | Loss_Val: 1.83E+03 | Acc_Val: 89.68\n",
      "... Epoch  31 | Loss_Train: 1.11E+04 | Loss_Val: 1.83E+03 | Acc_Val: 89.68\n",
      "... Epoch  32 | Loss_Train: 1.10E+04 | Loss_Val: 1.83E+03 | Acc_Val: 89.68\n",
      "... Epoch  33 | Loss_Train: 1.10E+04 | Loss_Val: 1.82E+03 | Acc_Val: 89.68\n",
      "... Epoch  34 | Loss_Train: 1.10E+04 | Loss_Val: 1.82E+03 | Acc_Val: 89.68\n",
      "... Epoch  35 | Loss_Train: 1.10E+04 | Loss_Val: 1.82E+03 | Acc_Val: 89.68\n",
      "... Epoch  36 | Loss_Train: 1.09E+04 | Loss_Val: 1.81E+03 | Acc_Val: 89.68\n",
      "... Epoch  37 | Loss_Train: 1.09E+04 | Loss_Val: 1.81E+03 | Acc_Val: 89.68\n",
      "... Epoch  38 | Loss_Train: 1.09E+04 | Loss_Val: 1.81E+03 | Acc_Val: 89.68\n",
      "... Epoch  39 | Loss_Train: 1.09E+04 | Loss_Val: 1.81E+03 | Acc_Val: 89.68\n",
      "... Epoch  40 | Loss_Train: 1.09E+04 | Loss_Val: 1.81E+03 | Acc_Val: 89.68\n",
      "... Epoch  41 | Loss_Train: 1.09E+04 | Loss_Val: 1.81E+03 | Acc_Val: 89.68\n",
      "... Epoch  42 | Loss_Train: 1.09E+04 | Loss_Val: 1.81E+03 | Acc_Val: 89.68\n",
      "... Epoch  43 | Loss_Train: 1.08E+04 | Loss_Val: 1.80E+03 | Acc_Val: 89.68\n",
      "... Epoch  44 | Loss_Train: 1.08E+04 | Loss_Val: 1.80E+03 | Acc_Val: 89.68\n",
      "... Epoch  45 | Loss_Train: 1.08E+04 | Loss_Val: 1.80E+03 | Acc_Val: 89.68\n",
      "... Epoch  46 | Loss_Train: 1.08E+04 | Loss_Val: 1.80E+03 | Acc_Val: 89.68\n",
      "... Epoch  47 | Loss_Train: 1.08E+04 | Loss_Val: 1.80E+03 | Acc_Val: 89.68\n",
      "... Epoch  48 | Loss_Train: 1.08E+04 | Loss_Val: 1.80E+03 | Acc_Val: 89.68\n",
      "... Epoch  49 | Loss_Train: 1.08E+04 | Loss_Val: 1.80E+03 | Acc_Val: 89.69\n",
      "... Epoch  50 | Loss_Train: 1.08E+04 | Loss_Val: 1.80E+03 | Acc_Val: 89.70\n",
      "... Epoch  51 | Loss_Train: 1.08E+04 | Loss_Val: 1.79E+03 | Acc_Val: 89.73\n",
      "... Epoch  52 | Loss_Train: 1.08E+04 | Loss_Val: 1.79E+03 | Acc_Val: 89.77\n",
      "... Epoch  53 | Loss_Train: 1.07E+04 | Loss_Val: 1.79E+03 | Acc_Val: 89.78\n",
      "... Epoch  54 | Loss_Train: 1.07E+04 | Loss_Val: 1.79E+03 | Acc_Val: 89.79\n",
      "... Epoch  55 | Loss_Train: 1.07E+04 | Loss_Val: 1.79E+03 | Acc_Val: 89.86\n",
      "... Epoch  56 | Loss_Train: 1.07E+04 | Loss_Val: 1.79E+03 | Acc_Val: 89.98\n",
      "... Epoch  57 | Loss_Train: 1.07E+04 | Loss_Val: 1.79E+03 | Acc_Val: 90.10\n",
      "... Epoch  58 | Loss_Train: 1.07E+04 | Loss_Val: 1.78E+03 | Acc_Val: 90.26\n",
      "... Epoch  59 | Loss_Train: 1.07E+04 | Loss_Val: 1.78E+03 | Acc_Val: 90.42\n",
      "... Epoch  60 | Loss_Train: 1.06E+04 | Loss_Val: 1.78E+03 | Acc_Val: 90.59\n",
      "... Epoch  61 | Loss_Train: 1.06E+04 | Loss_Val: 1.77E+03 | Acc_Val: 90.86\n",
      "... Epoch  62 | Loss_Train: 1.06E+04 | Loss_Val: 1.77E+03 | Acc_Val: 91.17\n",
      "... Epoch  63 | Loss_Train: 1.06E+04 | Loss_Val: 1.77E+03 | Acc_Val: 91.33\n",
      "... Epoch  64 | Loss_Train: 1.06E+04 | Loss_Val: 1.76E+03 | Acc_Val: 92.72\n",
      "... Epoch  65 | Loss_Train: 1.05E+04 | Loss_Val: 1.76E+03 | Acc_Val: 92.96\n",
      "... Epoch  66 | Loss_Train: 1.05E+04 | Loss_Val: 1.76E+03 | Acc_Val: 93.17\n",
      "... Epoch  67 | Loss_Train: 1.05E+04 | Loss_Val: 1.75E+03 | Acc_Val: 93.38\n",
      "... Epoch  68 | Loss_Train: 1.05E+04 | Loss_Val: 1.75E+03 | Acc_Val: 93.55\n",
      "... Epoch  69 | Loss_Train: 1.05E+04 | Loss_Val: 1.74E+03 | Acc_Val: 93.72\n",
      "... Epoch  70 | Loss_Train: 1.04E+04 | Loss_Val: 1.74E+03 | Acc_Val: 93.93\n",
      "... Epoch  71 | Loss_Train: 1.04E+04 | Loss_Val: 1.74E+03 | Acc_Val: 94.23\n",
      "... Epoch  72 | Loss_Train: 1.04E+04 | Loss_Val: 1.73E+03 | Acc_Val: 94.64\n",
      "... Epoch  73 | Loss_Train: 1.03E+04 | Loss_Val: 1.72E+03 | Acc_Val: 94.86\n",
      "... Epoch  74 | Loss_Train: 1.03E+04 | Loss_Val: 1.72E+03 | Acc_Val: 95.05\n",
      "... Epoch  75 | Loss_Train: 1.03E+04 | Loss_Val: 1.71E+03 | Acc_Val: 95.22\n",
      "... Epoch  76 | Loss_Train: 1.02E+04 | Loss_Val: 1.71E+03 | Acc_Val: 95.38\n",
      "... Epoch  77 | Loss_Train: 1.02E+04 | Loss_Val: 1.70E+03 | Acc_Val: 95.55\n",
      "... Epoch  78 | Loss_Train: 1.02E+04 | Loss_Val: 1.70E+03 | Acc_Val: 95.71\n",
      "... Epoch  79 | Loss_Train: 1.01E+04 | Loss_Val: 1.69E+03 | Acc_Val: 95.84\n",
      "... Epoch  80 | Loss_Train: 1.01E+04 | Loss_Val: 1.68E+03 | Acc_Val: 95.99\n",
      "... Epoch  81 | Loss_Train: 1.00E+04 | Loss_Val: 1.68E+03 | Acc_Val: 96.08\n",
      "... Epoch  82 | Loss_Train: 1.00E+04 | Loss_Val: 1.67E+03 | Acc_Val: 96.22\n",
      "... Epoch  83 | Loss_Train: 9.97E+03 | Loss_Val: 1.66E+03 | Acc_Val: 96.34\n",
      "... Epoch  84 | Loss_Train: 9.93E+03 | Loss_Val: 1.66E+03 | Acc_Val: 96.45\n",
      "... Epoch  85 | Loss_Train: 9.88E+03 | Loss_Val: 1.65E+03 | Acc_Val: 96.61\n",
      "... Epoch  86 | Loss_Train: 9.84E+03 | Loss_Val: 1.64E+03 | Acc_Val: 96.73\n",
      "... Epoch  87 | Loss_Train: 9.79E+03 | Loss_Val: 1.63E+03 | Acc_Val: 96.75\n",
      "... Epoch  88 | Loss_Train: 9.75E+03 | Loss_Val: 1.63E+03 | Acc_Val: 96.73\n",
      "... Epoch  89 | Loss_Train: 9.70E+03 | Loss_Val: 1.62E+03 | Acc_Val: 96.75\n",
      "... Epoch  90 | Loss_Train: 9.66E+03 | Loss_Val: 1.61E+03 | Acc_Val: 96.82\n",
      "... Epoch  91 | Loss_Train: 9.61E+03 | Loss_Val: 1.60E+03 | Acc_Val: 96.87\n",
      "... Epoch  92 | Loss_Train: 9.56E+03 | Loss_Val: 1.59E+03 | Acc_Val: 96.95\n",
      "... Epoch  93 | Loss_Train: 9.52E+03 | Loss_Val: 1.59E+03 | Acc_Val: 96.95\n",
      "... Epoch  94 | Loss_Train: 9.47E+03 | Loss_Val: 1.58E+03 | Acc_Val: 96.99\n",
      "... Epoch  95 | Loss_Train: 9.42E+03 | Loss_Val: 1.57E+03 | Acc_Val: 96.98\n",
      "... Epoch  96 | Loss_Train: 9.37E+03 | Loss_Val: 1.56E+03 | Acc_Val: 97.00\n",
      "... Epoch  97 | Loss_Train: 9.33E+03 | Loss_Val: 1.55E+03 | Acc_Val: 97.02\n",
      "... Epoch  98 | Loss_Train: 9.28E+03 | Loss_Val: 1.54E+03 | Acc_Val: 97.05\n",
      "... Epoch  99 | Loss_Train: 9.23E+03 | Loss_Val: 1.54E+03 | Acc_Val: 97.02\n",
      "... Epoch 100 | Loss_Train: 9.18E+03 | Loss_Val: 1.53E+03 | Acc_Val: 97.01\n",
      "... Epoch 101 | Loss_Train: 9.13E+03 | Loss_Val: 1.52E+03 | Acc_Val: 97.01\n",
      "... Epoch 102 | Loss_Train: 9.08E+03 | Loss_Val: 1.51E+03 | Acc_Val: 97.01\n",
      "... Epoch 103 | Loss_Train: 9.03E+03 | Loss_Val: 1.51E+03 | Acc_Val: 96.98\n",
      "... Epoch 104 | Loss_Train: 8.98E+03 | Loss_Val: 1.50E+03 | Acc_Val: 96.99\n",
      "... Epoch 105 | Loss_Train: 8.93E+03 | Loss_Val: 1.49E+03 | Acc_Val: 97.00\n",
      "... Epoch 106 | Loss_Train: 8.89E+03 | Loss_Val: 1.48E+03 | Acc_Val: 96.99\n",
      "... Epoch 107 | Loss_Train: 8.84E+03 | Loss_Val: 1.47E+03 | Acc_Val: 97.01\n",
      "... Epoch 108 | Loss_Train: 8.79E+03 | Loss_Val: 1.46E+03 | Acc_Val: 97.01\n",
      "... Epoch 109 | Loss_Train: 8.75E+03 | Loss_Val: 1.46E+03 | Acc_Val: 97.02\n"
     ]
    },
    {
     "name": "stdout",
     "output_type": "stream",
     "text": [
      "... Epoch 110 | Loss_Train: 8.70E+03 | Loss_Val: 1.45E+03 | Acc_Val: 97.04\n"
     ]
    }
   ],
   "source": [
    "# Creating a neural network structure\n",
    "net = nn.net_create([784,100,1])\n",
    "\n",
    "# Training neural network:\n",
    "# Note that since I am not doing any hyper-parameter tuning, I am using the test sets for\n",
    "# validation to show how the generalization error changes as the network gets trained. \n",
    "Loss,Loss_val,mae_val = nn.net_train(net,X_train,y_train,X_test,y_test,epsilon=1e-6,NIter=300)\n"
   ]
  },
  {
   "cell_type": "code",
   "execution_count": 15,
   "metadata": {},
   "outputs": [
    {
     "data": {
      "image/png": "[encoded data removed]",
      "text/plain": [
       "<Figure size 432x288 with 1 Axes>"
      ]
     },
     "metadata": {
      "needs_background": "light"
     },
     "output_type": "display_data"
    }
   ],
   "source": [
    "# Plotting learning curves:\n",
    "# Note that we don't observe overfitting here because the model is very simple.\n",
    "plt.plot(Loss/np.max(Loss))\n",
    "plt.plot(Loss_val/np.max(Loss_val))\n",
    "plt.legend({'Normalized Training Loss','Normalized Validation Loss'})\n",
    "plt.show()"
   ]
  }
 ],
 "metadata": {
  "kernelspec": {
   "display_name": "Python 3",
   "language": "python",
   "name": "python3"
  },
  "language_info": {
   "codemirror_mode": {
    "name": "ipython",
    "version": 3
   },
   "file_extension": ".py",
   "mimetype": "text/x-python",
   "name": "python",
   "nbconvert_exporter": "python",
   "pygments_lexer": "ipython3",
   "version": "3.8.5"
  }
 },
 "nbformat": 4,
 "nbformat_minor": 2
}
